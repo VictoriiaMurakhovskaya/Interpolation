{
 "cells": [
  {
   "cell_type": "code",
   "execution_count": 1,
   "metadata": {},
   "outputs": [],
   "source": [
    "import pandas as pd\n",
    "import datetime\n",
    "from datetime import datetime\n",
    "import seaborn as sns\n",
    "import matplotlib.pyplot as plt\n",
    "from random import randint as rn\n",
    "import numpy as np\n",
    "from sklearn.metrics import r2_score"
   ]
  },
  {
   "cell_type": "markdown",
   "metadata": {},
   "source": [
    "### Підготовча частина"
   ]
  },
  {
   "cell_type": "markdown",
   "metadata": {},
   "source": [
    "Завантаження підготовленої таблиці даних"
   ]
  },
  {
   "cell_type": "code",
   "execution_count": 2,
   "metadata": {},
   "outputs": [],
   "source": [
    "df = pd.read_pickle('data.pickle')\n",
    "y_true = df.Value.copy()\n",
    "df.reset_index(inplace=True, drop=True)\n",
    "df_res = df.copy()"
   ]
  },
  {
   "cell_type": "markdown",
   "metadata": {},
   "source": [
    "Видалення випадковим чином заданого відсотка значень"
   ]
  },
  {
   "cell_type": "code",
   "execution_count": 3,
   "metadata": {},
   "outputs": [],
   "source": [
    "def count_nan(df_nan):\n",
    "    value = list(df_nan.isna().sum().loc[df_nan.isna().sum() > 0].sort_values(ascending=True))\n",
    "    if len(value) > 0:\n",
    "        return value[0]\n",
    "    else:\n",
    "        return 0\n",
    "\n",
    "def make_nan(df, share=0.2):\n",
    "    target = np.ceil(len(df) * 0.2)\n",
    "    while count_nan(df) < target:\n",
    "        position = rn(0, len(df) - 1)\n",
    "        df.at[position, 'Value'] = np.nan\n",
    "    return df\n",
    "\n",
    "df_nan = make_nan(df, share=0.2)\n",
    "nan_index = list(df_nan.loc[df_nan.Value.isna()].index.copy())"
   ]
  },
  {
   "cell_type": "markdown",
   "metadata": {},
   "source": [
    "Перевірка кількості видалених значень у датасеті"
   ]
  },
  {
   "cell_type": "code",
   "execution_count": 4,
   "metadata": {},
   "outputs": [
    {
     "name": "stdout",
     "output_type": "stream",
     "text": [
      "Отримана таблиця містить 20 NaN\n"
     ]
    }
   ],
   "source": [
    "print('Отримана таблиця містить {} NaN'.format(count_nan(df_nan)))"
   ]
  },
  {
   "cell_type": "markdown",
   "metadata": {},
   "source": [
    "### Лінійна інтерполяція"
   ]
  },
  {
   "cell_type": "markdown",
   "metadata": {},
   "source": [
    "Створюємо клас _LinearImputer_, який дозволить відновляти значенням шляхом кусочно - лінійної інтерполяції. У випадку, коли декілька сусідніх членів є NaN, вони при лінійній інтерполяції отримують однакові значення."
   ]
  },
  {
   "cell_type": "code",
   "execution_count": 5,
   "metadata": {},
   "outputs": [],
   "source": [
    "class LinearImputer:\n",
    "    \n",
    "    def __init__(self):\n",
    "        self.X = None\n",
    "        self.y = None\n",
    "        self.res = None\n",
    "\n",
    "    def neighbour(self, k, up=True):\n",
    "        \"\"\"\n",
    "        метод, що шукає найближчі значення не NaN залишаєтся від методу найближчих сусідів\n",
    "        \"\"\"\n",
    "        n = k\n",
    "        if up:\n",
    "            while np.isnan(self.y[n]):\n",
    "                if n + 1 < len(self.y):\n",
    "                    n += 1\n",
    "                else:\n",
    "                    return len(self.y) - 1, np.nan\n",
    "            return np.abs(n - k), self.y[n]\n",
    "        else:\n",
    "            while np.isnan(self.y[n]):\n",
    "                if n - 1 > - 1:\n",
    "                    n -= 1\n",
    "                else:\n",
    "                    return 0, np.nan\n",
    "            return np.abs(n - k), self.y[n]\n",
    "        \n",
    "    def line(self, x, x1, x2, y1, y2):\n",
    "        return ((x - x1) / (x2 - x1)) * (y2 - y1) + y1\n",
    "    \n",
    "    def fit_transform(self, X, y):\n",
    "        \"\"\"\n",
    "        Підставляє значення замість NaN, користуючись принципом лінійної інтерполяції\n",
    "        \"\"\"\n",
    "        self.X = np.array(X)\n",
    "        self.y = np.array(y)\n",
    "        self.res = np.array(y)\n",
    "        for n in range(len(self.y)):\n",
    "            if np.isnan(y[n]):\n",
    "                shift_minus, y_minus = self.neighbour(n, up=False)\n",
    "                shift_plus, y_plus = self.neighbour(n, up=True)\n",
    "                x_minus, x_plus = X[n - shift_minus], X[n + shift_plus]\n",
    "                self.res[n] = self.line(self.X[n], x_minus, x_plus, y_minus, y_plus)\n",
    "        return self.res        "
   ]
  },
  {
   "cell_type": "markdown",
   "metadata": {},
   "source": [
    "Проводимо відновлення значень"
   ]
  },
  {
   "cell_type": "code",
   "execution_count": 6,
   "metadata": {},
   "outputs": [],
   "source": [
    "li = LinearImputer()\n",
    "y_pred = li.fit_transform(df_nan.Time, df_nan.Value)\n",
    "df['LI_imputed'] = y_pred"
   ]
  },
  {
   "cell_type": "code",
   "execution_count": 7,
   "metadata": {},
   "outputs": [
    {
     "name": "stdout",
     "output_type": "stream",
     "text": [
      "Коефіцієнт детермінації = 0.9703729937404088\n"
     ]
    }
   ],
   "source": [
    "print('Коефіцієнт детермінації = {}'.format(r2_score(np.array(y_true)[nan_index], np.array(y_pred)[nan_index])))"
   ]
  }
 ],
 "metadata": {
  "kernelspec": {
   "display_name": "Python 3",
   "language": "python",
   "name": "python3"
  },
  "language_info": {
   "codemirror_mode": {
    "name": "ipython",
    "version": 3
   },
   "file_extension": ".py",
   "mimetype": "text/x-python",
   "name": "python",
   "nbconvert_exporter": "python",
   "pygments_lexer": "ipython3",
   "version": "3.8.5"
  }
 },
 "nbformat": 4,
 "nbformat_minor": 4
}
