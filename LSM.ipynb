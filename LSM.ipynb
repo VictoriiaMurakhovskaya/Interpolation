{
 "cells": [
  {
   "cell_type": "code",
   "execution_count": 1,
   "metadata": {},
   "outputs": [],
   "source": [
    "import pandas as pd\n",
    "import datetime\n",
    "from datetime import datetime\n",
    "import seaborn as sns\n",
    "import matplotlib.pyplot as plt\n",
    "from random import randint as rn\n",
    "import numpy as np\n",
    "from sklearn.metrics import r2_score"
   ]
  },
  {
   "cell_type": "markdown",
   "metadata": {},
   "source": [
    "### Підготовча частина"
   ]
  },
  {
   "cell_type": "markdown",
   "metadata": {},
   "source": [
    "Завантаження підготовленої таблиці даних"
   ]
  },
  {
   "cell_type": "code",
   "execution_count": 2,
   "metadata": {},
   "outputs": [],
   "source": [
    "df = pd.read_pickle('data.pickle')\n",
    "y_true = df.Value.copy()\n",
    "df.reset_index(inplace=True, drop=True)\n",
    "df_res = df.copy()"
   ]
  },
  {
   "cell_type": "markdown",
   "metadata": {},
   "source": [
    "Видалення випадковим чином заданого відсотка значень"
   ]
  },
  {
   "cell_type": "code",
   "execution_count": 3,
   "metadata": {},
   "outputs": [],
   "source": [
    "def count_nan(df_nan):\n",
    "    value = list(df_nan.isna().sum().loc[df_nan.isna().sum() > 0].sort_values(ascending=True))\n",
    "    if len(value) > 0:\n",
    "        return value[0]\n",
    "    else:\n",
    "        return 0\n",
    "\n",
    "def make_nan(df, share=0.2):\n",
    "    target = np.ceil(len(df) * 0.2)\n",
    "    while count_nan(df) < target:\n",
    "        position = rn(0, len(df) - 1)\n",
    "        df.at[position, 'Value'] = np.nan\n",
    "    return df\n",
    "\n",
    "df_nan = make_nan(df, share=0.2)"
   ]
  },
  {
   "cell_type": "markdown",
   "metadata": {},
   "source": [
    "Перевірка кількості видалених значень у датасеті"
   ]
  },
  {
   "cell_type": "code",
   "execution_count": 4,
   "metadata": {},
   "outputs": [
    {
     "name": "stdout",
     "output_type": "stream",
     "text": [
      "Отримана таблиця містить 20 NaN\n"
     ]
    }
   ],
   "source": [
    "print('Отримана таблиця містить {} NaN'.format(count_nan(df_nan)))"
   ]
  },
  {
   "cell_type": "markdown",
   "metadata": {},
   "source": [
    "### Інтерполяція методом найменших квадратів"
   ]
  },
  {
   "cell_type": "markdown",
   "metadata": {},
   "source": [
    "Створюємо клас _MNK_LinearImputer_, який дозволить відновляти значенням шляхом інтерполяції лінійною функцією _y=ax+b_, коефіцієнти якої знаходяться так, щоб сума квадратів відхилень точок від апроксимуючих точок була мінімальною."
   ]
  },
  {
   "cell_type": "code",
   "execution_count": 5,
   "metadata": {},
   "outputs": [],
   "source": [
    "class MNK_LinearImputer:\n",
    "    \n",
    "    def __init__(self, n):\n",
    "        self.X = None\n",
    "        self.y = None\n",
    "        self.res = None\n",
    "        self.m = n\n",
    "\n",
    "    def neighbour(self, k):\n",
    "        \"\"\"\n",
    "        метод, повертає m найближчих до точки, що апроксимується, точок, для яких значення y не є NaN\n",
    "        \"\"\"\n",
    "        n_minus = k - 1\n",
    "        n_plus = k + 1\n",
    "        points = []\n",
    "        \n",
    "        for _ in range(self.m):\n",
    "            \n",
    "            if n_minus > -1:\n",
    "                while (np.isnan(self.y[n_minus])) & (n_minus > 0):\n",
    "                    if n_minus > 0:                \n",
    "                        n_minus -= 1\n",
    "                        \n",
    "            if n_plus < len(self.X) - 1:\n",
    "                while (np.isnan(self.y[n_plus])) & (n_plus < len(self.X) - 1):\n",
    "                    if n_plus < len(self.X) - 1:\n",
    "                        n_plus += 1\n",
    "            \n",
    "            if n_minus < 0:\n",
    "                points.append(n_plus)\n",
    "                n_plus += 1\n",
    "            elif n_plus > len(self.X) - 1:\n",
    "                points.append(n_minus)\n",
    "                n_minus -= 1\n",
    "            elif np.isnan(self.y[n_plus]):\n",
    "                points.append(n_minus)\n",
    "                n_minus -= 1\n",
    "            elif np.abs(self.X[n_minus] - self.X[k]) < np.abs(self.X[n_plus] - self.X[k]):\n",
    "                points.append(n_minus)                \n",
    "                n_minus -= 1\n",
    "            else:\n",
    "                points.append(n_plus)\n",
    "                n_plus += 1\n",
    "        return sorted(points)\n",
    "                   \n",
    "    def fit_transform(self, X, y):\n",
    "        \"\"\"\n",
    "        Підставляє значення замість NaN, користуючись принципом лінійної інтерполяції\n",
    "        \"\"\"\n",
    "        self.X = np.array(X)\n",
    "        self.y = np.array(y)\n",
    "        self.res = np.array(y)      \n",
    "        for n in range(len(self.y)):\n",
    "            if np.isnan(y[n]):\n",
    "                points = self.neighbour(n)\n",
    "                xi = self.X[points]\n",
    "                yi = self.y[points]\n",
    "                a = self.m * np.sum(np.dot(xi, yi)) - np.sum(xi) * np.sum(yi)\n",
    "                a = a / (self.m * np.sum(np.dot(xi, xi)) - np.sum(xi) * np.sum(xi))\n",
    "                b = np.sum(yi) - a * np.sum(xi)\n",
    "                b = b / self.m\n",
    "                self.res[n] = a * self.X[n] + b\n",
    "        return self.res        "
   ]
  },
  {
   "cell_type": "markdown",
   "metadata": {},
   "source": [
    "Проводимо відновлення значень"
   ]
  },
  {
   "cell_type": "code",
   "execution_count": 6,
   "metadata": {},
   "outputs": [],
   "source": [
    "mnki = MNK_LinearImputer(4)\n",
    "y_pred = mnki.fit_transform(df_nan.Time, df_nan.Value)\n",
    "df['MNK_imputed'] = y_pred"
   ]
  },
  {
   "cell_type": "code",
   "execution_count": 7,
   "metadata": {},
   "outputs": [
    {
     "name": "stdout",
     "output_type": "stream",
     "text": [
      "Коефіцієнт детермінації = 0.9885285628618102\n"
     ]
    }
   ],
   "source": [
    "print('Коефіцієнт детермінації = {}'.format(r2_score(y_true, y_pred)))"
   ]
  }
 ],
 "metadata": {
  "kernelspec": {
   "display_name": "Python 3",
   "language": "python",
   "name": "python3"
  },
  "language_info": {
   "codemirror_mode": {
    "name": "ipython",
    "version": 3
   },
   "file_extension": ".py",
   "mimetype": "text/x-python",
   "name": "python",
   "nbconvert_exporter": "python",
   "pygments_lexer": "ipython3",
   "version": "3.8.5"
  }
 },
 "nbformat": 4,
 "nbformat_minor": 4
}
