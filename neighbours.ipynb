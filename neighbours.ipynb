{
 "cells": [
  {
   "cell_type": "code",
   "execution_count": 1,
   "metadata": {},
   "outputs": [],
   "source": [
    "import pandas as pd\n",
    "import datetime\n",
    "from datetime import datetime\n",
    "import seaborn as sns\n",
    "import matplotlib.pyplot as plt\n",
    "from random import randint as rn\n",
    "import numpy as np\n",
    "from sklearn.metrics import r2_score"
   ]
  },
  {
   "cell_type": "markdown",
   "metadata": {},
   "source": [
    "### Підготовча частина"
   ]
  },
  {
   "cell_type": "markdown",
   "metadata": {},
   "source": [
    "Завантаження пдіготовленої таблиці даних"
   ]
  },
  {
   "cell_type": "code",
   "execution_count": 2,
   "metadata": {},
   "outputs": [],
   "source": [
    "df = pd.read_pickle('data.pickle')\n",
    "y_true = df.Value.copy()"
   ]
  },
  {
   "cell_type": "code",
   "execution_count": 3,
   "metadata": {},
   "outputs": [
    {
     "data": {
      "text/html": [
       "<div>\n",
       "<style scoped>\n",
       "    .dataframe tbody tr th:only-of-type {\n",
       "        vertical-align: middle;\n",
       "    }\n",
       "\n",
       "    .dataframe tbody tr th {\n",
       "        vertical-align: top;\n",
       "    }\n",
       "\n",
       "    .dataframe thead th {\n",
       "        text-align: right;\n",
       "    }\n",
       "</style>\n",
       "<table border=\"1\" class=\"dataframe\">\n",
       "  <thead>\n",
       "    <tr style=\"text-align: right;\">\n",
       "      <th></th>\n",
       "      <th>Time</th>\n",
       "      <th>Value</th>\n",
       "    </tr>\n",
       "  </thead>\n",
       "  <tbody>\n",
       "    <tr>\n",
       "      <th>0</th>\n",
       "      <td>05:30:00</td>\n",
       "      <td>13.0</td>\n",
       "    </tr>\n",
       "    <tr>\n",
       "      <th>1</th>\n",
       "      <td>05:40:00</td>\n",
       "      <td>24.0</td>\n",
       "    </tr>\n",
       "    <tr>\n",
       "      <th>2</th>\n",
       "      <td>05:50:00</td>\n",
       "      <td>44.0</td>\n",
       "    </tr>\n",
       "    <tr>\n",
       "      <th>3</th>\n",
       "      <td>06:00:00</td>\n",
       "      <td>68.0</td>\n",
       "    </tr>\n",
       "    <tr>\n",
       "      <th>4</th>\n",
       "      <td>06:10:00</td>\n",
       "      <td>58.0</td>\n",
       "    </tr>\n",
       "    <tr>\n",
       "      <th>...</th>\n",
       "      <td>...</td>\n",
       "      <td>...</td>\n",
       "    </tr>\n",
       "    <tr>\n",
       "      <th>68</th>\n",
       "      <td>16:50:00</td>\n",
       "      <td>54.0</td>\n",
       "    </tr>\n",
       "    <tr>\n",
       "      <th>69</th>\n",
       "      <td>17:00:00</td>\n",
       "      <td>46.0</td>\n",
       "    </tr>\n",
       "    <tr>\n",
       "      <th>70</th>\n",
       "      <td>17:10:00</td>\n",
       "      <td>40.0</td>\n",
       "    </tr>\n",
       "    <tr>\n",
       "      <th>71</th>\n",
       "      <td>17:20:00</td>\n",
       "      <td>29.0</td>\n",
       "    </tr>\n",
       "    <tr>\n",
       "      <th>72</th>\n",
       "      <td>17:30:00</td>\n",
       "      <td>13.0</td>\n",
       "    </tr>\n",
       "  </tbody>\n",
       "</table>\n",
       "<p>73 rows × 2 columns</p>\n",
       "</div>"
      ],
      "text/plain": [
       "        Time  Value\n",
       "0   05:30:00   13.0\n",
       "1   05:40:00   24.0\n",
       "2   05:50:00   44.0\n",
       "3   06:00:00   68.0\n",
       "4   06:10:00   58.0\n",
       "..       ...    ...\n",
       "68  16:50:00   54.0\n",
       "69  17:00:00   46.0\n",
       "70  17:10:00   40.0\n",
       "71  17:20:00   29.0\n",
       "72  17:30:00   13.0\n",
       "\n",
       "[73 rows x 2 columns]"
      ]
     },
     "execution_count": 3,
     "metadata": {},
     "output_type": "execute_result"
    }
   ],
   "source": [
    "df"
   ]
  },
  {
   "cell_type": "markdown",
   "metadata": {},
   "source": [
    "Відображення даних графічно з використанням Seaborn"
   ]
  },
  {
   "cell_type": "code",
   "execution_count": 4,
   "metadata": {},
   "outputs": [
    {
     "data": {
      "text/plain": [
       "<seaborn.axisgrid.FacetGrid at 0x1ab85d44af0>"
      ]
     },
     "execution_count": 4,
     "metadata": {},
     "output_type": "execute_result"
    },
    {
     "data": {
      "image/png": "[encoded data removed]",
      "text/plain": [
       "<Figure size 360x360 with 1 Axes>"
      ]
     },
     "metadata": {},
     "output_type": "display_data"
    }
   ],
   "source": [
    "sns.set_theme(style=\"darkgrid\")\n",
    "sns.relplot(data=df, x='Time', y='Value', kind='line')"
   ]
  },
  {
   "cell_type": "markdown",
   "metadata": {},
   "source": [
    "Видалення випадковим чином заданого відсотка значень"
   ]
  },
  {
   "cell_type": "code",
   "execution_count": 5,
   "metadata": {},
   "outputs": [],
   "source": [
    "def make_nan(df, share=0.2):\n",
    "    for i in range(int(np.ceil(len(df) * 0.2))):\n",
    "        position = rn(0, len(df) - 1)\n",
    "        df.at[position, 'Value'] = np.nan\n",
    "    return df\n",
    "\n",
    "df_nan = make_nan(df, share=0.2)"
   ]
  },
  {
   "cell_type": "markdown",
   "metadata": {},
   "source": [
    "Перевірка кількості видалених значень у датасеті"
   ]
  },
  {
   "cell_type": "code",
   "execution_count": 6,
   "metadata": {},
   "outputs": [
    {
     "data": {
      "text/plain": [
       "Value    14\n",
       "dtype: int64"
      ]
     },
     "execution_count": 6,
     "metadata": {},
     "output_type": "execute_result"
    }
   ],
   "source": [
    "df_nan.isna().sum().loc[df_nan.isna().sum() > 0].sort_values(ascending=True)"
   ]
  },
  {
   "cell_type": "markdown",
   "metadata": {},
   "source": [
    "### Інтерполяція найближчим сусідом (сусідами)"
   ]
  },
  {
   "cell_type": "markdown",
   "metadata": {},
   "source": [
    "Значення часового ряду, що розглядається, знаходяться на рівних часових інтервалах одне від одного.\n",
    "Створюємо класс _NeighbourImputer_, який дозволить вставляти значення методом найближчого сусіда. З оглядом на рівні інтервали, метод вставляє правого сусіда, лівого сусіда або середня арифметичне двох сусідів. Метод вказується при ініціалізації інтервала класу."
   ]
  },
  {
   "cell_type": "code",
   "execution_count": 7,
   "metadata": {},
   "outputs": [],
   "source": [
    "class NeighbourImputer:\n",
    "    \n",
    "    def __init__(self, action='mean'):\n",
    "        self.X = None\n",
    "        self.res = None\n",
    "        self.action = action\n",
    "    \n",
    "    def fit_transform(self, X):\n",
    "        self.X = np.array(X)\n",
    "        self.res = np.array(X)\n",
    "        for n, x in enumerate(self.X):\n",
    "            if np.isnan(x):\n",
    "                n_minus = self.neighbour(n, up=False)\n",
    "                n_plus = self.neighbour(n, up=True)\n",
    "                if (not np.isnan(n_minus)) & (not np.isnan(n_plus)):\n",
    "                    if self.action == 'mean':\n",
    "                        self.res[n] = 1/2 * (n_minus + n_plus)\n",
    "                    elif self.action == 'left':\n",
    "                        self.res[n] = n_minus\n",
    "                    elif self.action == 'right':\n",
    "                        self.res[n] = n_plus\n",
    "                elif not np.isnan(n_minus):\n",
    "                    self.res[n] = n_minus\n",
    "                elif not np.isnan(n_plus):\n",
    "                    self.res[n] = n_plus\n",
    "            \n",
    "        return self.res\n",
    "    \n",
    "    def neighbour(self, n, up=True):\n",
    "        if up:\n",
    "            while np.isnan(self.X[n]):\n",
    "                if n + 1 < len(self.X):\n",
    "                    n += 1\n",
    "                else:\n",
    "                    return np.nan\n",
    "            return self.X[n]\n",
    "        else:\n",
    "            while np.isnan(self.X[n]):\n",
    "                if n - 1 > - 1:\n",
    "                    n -= 1\n",
    "                else:\n",
    "                    return np.nan\n",
    "            return self.X[n]                   "
   ]
  },
  {
   "cell_type": "markdown",
   "metadata": {},
   "source": [
    "Проводимо відновлення значень"
   ]
  },
  {
   "cell_type": "code",
   "execution_count": 8,
   "metadata": {},
   "outputs": [],
   "source": [
    "ni = NeighbourImputer(action='mean')\n",
    "y_pred = ni.fit_transform(df_nan.Value)\n",
    "df['NI_imputed'] = y_pred"
   ]
  },
  {
   "cell_type": "code",
   "execution_count": 9,
   "metadata": {},
   "outputs": [
    {
     "name": "stdout",
     "output_type": "stream",
     "text": [
      "Коефіцієнт детермінації = 0.9726146486593685\n"
     ]
    }
   ],
   "source": [
    "print('Коефіцієнт детермінації = {}'.format(r2_score(y_true, y_pred)))"
   ]
  },
  {
   "cell_type": "markdown",
   "metadata": {},
   "source": [
    "Визначимо залежність коефіцієнту детермінації від частки видалених та відновленних значень"
   ]
  },
  {
   "cell_type": "code",
   "execution_count": 10,
   "metadata": {},
   "outputs": [],
   "source": [
    "sharea, r2_a = [], []\n",
    "for s in range(1, 9):\n",
    "    share = 0.1 * s\n",
    "    df_nan = make_nan(df, share=share)\n",
    "    y_pred = ni.fit_transform(df_nan.Value)\n",
    "    sharea.append(share)\n",
    "    r2_a.append(r2_score(y_true, y_pred))"
   ]
  },
  {
   "cell_type": "code",
   "execution_count": 11,
   "metadata": {},
   "outputs": [
    {
     "data": {
      "image/png": "[encoded data removed]",
      "text/plain": [
       "<Figure size 432x288 with 1 Axes>"
      ]
     },
     "metadata": {},
     "output_type": "display_data"
    }
   ],
   "source": [
    "plt.plot(sharea, r2_a)\n",
    "plt.title('Залежність R^2 від частки видалених значень')\n",
    "plt.xlabel('Частка видалених значень')\n",
    "plt.ylabel('R^2')\n",
    "plt.show()"
   ]
  },
  {
   "cell_type": "markdown",
   "metadata": {},
   "source": [
    "Для уточнення результатів моделювання треба провести визначення R^2 в ітераційному циклі та обрати середнє значення ряду в якості ітогового коефіцієнту."
   ]
  }
 ],
 "metadata": {
  "kernelspec": {
   "display_name": "Python 3",
   "language": "python",
   "name": "python3"
  },
  "language_info": {
   "codemirror_mode": {
    "name": "ipython",
    "version": 3
   },
   "file_extension": ".py",
   "mimetype": "text/x-python",
   "name": "python",
   "nbconvert_exporter": "python",
   "pygments_lexer": "ipython3",
   "version": "3.8.5"
  }
 },
 "nbformat": 4,
 "nbformat_minor": 4
}
