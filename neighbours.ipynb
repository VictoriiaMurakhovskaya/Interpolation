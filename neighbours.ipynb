{
 "cells": [
  {
   "cell_type": "code",
   "execution_count": 1,
   "metadata": {},
   "outputs": [],
   "source": [
    "import pandas as pd\n",
    "import datetime\n",
    "from datetime import datetime\n",
    "import seaborn as sns\n",
    "import matplotlib.pyplot as plt\n",
    "from random import randint as rn\n",
    "import random\n",
    "import numpy as np\n",
    "from sklearn.metrics import r2_score"
   ]
  },
  {
   "cell_type": "markdown",
   "metadata": {},
   "source": [
    "### Підготовча частина"
   ]
  },
  {
   "cell_type": "markdown",
   "metadata": {},
   "source": [
    "Завантаження підготовленої таблиці даних"
   ]
  },
  {
   "cell_type": "code",
   "execution_count": 2,
   "metadata": {},
   "outputs": [],
   "source": [
    "df = pd.read_pickle('data.pickle')\n",
    "y_true = df.Value.copy()\n",
    "df.reset_index(inplace=True, drop=True)\n",
    "df_res = df.copy()"
   ]
  },
  {
   "cell_type": "code",
   "execution_count": 3,
   "metadata": {},
   "outputs": [
    {
     "data": {
      "text/html": [
       "<div>\n",
       "<style scoped>\n",
       "    .dataframe tbody tr th:only-of-type {\n",
       "        vertical-align: middle;\n",
       "    }\n",
       "\n",
       "    .dataframe tbody tr th {\n",
       "        vertical-align: top;\n",
       "    }\n",
       "\n",
       "    .dataframe thead th {\n",
       "        text-align: right;\n",
       "    }\n",
       "</style>\n",
       "<table border=\"1\" class=\"dataframe\">\n",
       "  <thead>\n",
       "    <tr style=\"text-align: right;\">\n",
       "      <th></th>\n",
       "      <th>Time</th>\n",
       "      <th>Value</th>\n",
       "    </tr>\n",
       "  </thead>\n",
       "  <tbody>\n",
       "    <tr>\n",
       "      <th>0</th>\n",
       "      <td>1.0</td>\n",
       "      <td>8.0</td>\n",
       "    </tr>\n",
       "    <tr>\n",
       "      <th>1</th>\n",
       "      <td>2.0</td>\n",
       "      <td>8.0</td>\n",
       "    </tr>\n",
       "    <tr>\n",
       "      <th>2</th>\n",
       "      <td>3.0</td>\n",
       "      <td>9.0</td>\n",
       "    </tr>\n",
       "    <tr>\n",
       "      <th>3</th>\n",
       "      <td>10.0</td>\n",
       "      <td>17.0</td>\n",
       "    </tr>\n",
       "    <tr>\n",
       "      <th>4</th>\n",
       "      <td>13.0</td>\n",
       "      <td>21.0</td>\n",
       "    </tr>\n",
       "    <tr>\n",
       "      <th>...</th>\n",
       "      <td>...</td>\n",
       "      <td>...</td>\n",
       "    </tr>\n",
       "    <tr>\n",
       "      <th>95</th>\n",
       "      <td>679.0</td>\n",
       "      <td>60.0</td>\n",
       "    </tr>\n",
       "    <tr>\n",
       "      <th>96</th>\n",
       "      <td>683.0</td>\n",
       "      <td>56.0</td>\n",
       "    </tr>\n",
       "    <tr>\n",
       "      <th>97</th>\n",
       "      <td>692.0</td>\n",
       "      <td>49.0</td>\n",
       "    </tr>\n",
       "    <tr>\n",
       "      <th>98</th>\n",
       "      <td>709.0</td>\n",
       "      <td>39.0</td>\n",
       "    </tr>\n",
       "    <tr>\n",
       "      <th>99</th>\n",
       "      <td>722.0</td>\n",
       "      <td>20.0</td>\n",
       "    </tr>\n",
       "  </tbody>\n",
       "</table>\n",
       "<p>100 rows × 2 columns</p>\n",
       "</div>"
      ],
      "text/plain": [
       "     Time  Value\n",
       "0     1.0    8.0\n",
       "1     2.0    8.0\n",
       "2     3.0    9.0\n",
       "3    10.0   17.0\n",
       "4    13.0   21.0\n",
       "..    ...    ...\n",
       "95  679.0   60.0\n",
       "96  683.0   56.0\n",
       "97  692.0   49.0\n",
       "98  709.0   39.0\n",
       "99  722.0   20.0\n",
       "\n",
       "[100 rows x 2 columns]"
      ]
     },
     "execution_count": 3,
     "metadata": {},
     "output_type": "execute_result"
    }
   ],
   "source": [
    "df"
   ]
  },
  {
   "cell_type": "markdown",
   "metadata": {},
   "source": [
    "Відображення даних графічно з використанням Seaborn"
   ]
  },
  {
   "cell_type": "code",
   "execution_count": 4,
   "metadata": {},
   "outputs": [
    {
     "data": {
      "text/plain": [
       "<seaborn.axisgrid.FacetGrid at 0x21ed3cf8cd0>"
      ]
     },
     "execution_count": 4,
     "metadata": {},
     "output_type": "execute_result"
    },
    {
     "data": {
      "image/png": "[encoded data removed]",
      "text/plain": [
       "<Figure size 360x360 with 1 Axes>"
      ]
     },
     "metadata": {},
     "output_type": "display_data"
    }
   ],
   "source": [
    "sns.set_theme(style=\"darkgrid\")\n",
    "sns.relplot(data=df, x='Time', y='Value', kind='line')"
   ]
  },
  {
   "cell_type": "markdown",
   "metadata": {},
   "source": [
    "Видалення випадковим чином заданого відсотка значень"
   ]
  },
  {
   "cell_type": "code",
   "execution_count": 5,
   "metadata": {},
   "outputs": [],
   "source": [
    "def count_nan(df_nan):\n",
    "    value = list(df_nan.isna().sum().loc[df_nan.isna().sum() > 0].sort_values(ascending=True))\n",
    "    if len(value) > 0:\n",
    "        return value[0]\n",
    "    else:\n",
    "        return 0\n",
    "\n",
    "def make_nan(df, share=0.2):\n",
    "    target = np.ceil(len(df) * 0.2)\n",
    "    while count_nan(df) < target:\n",
    "        position = rn(0, len(df) - 1)\n",
    "        df.at[position, 'Value'] = np.nan\n",
    "    return df\n",
    "\n",
    "df_nan = make_nan(df, share=0.2)"
   ]
  },
  {
   "cell_type": "markdown",
   "metadata": {},
   "source": [
    "Перевірка кількості видалених значень у датасеті"
   ]
  },
  {
   "cell_type": "code",
   "execution_count": 6,
   "metadata": {},
   "outputs": [
    {
     "name": "stdout",
     "output_type": "stream",
     "text": [
      "Отримана таблиця містить 20 NaN\n"
     ]
    }
   ],
   "source": [
    "print('Отримана таблиця містить {} NaN'.format(count_nan(df_nan)))"
   ]
  },
  {
   "cell_type": "markdown",
   "metadata": {},
   "source": [
    "### Інтерполяція найближчим сусідом (сусідами)"
   ]
  },
  {
   "cell_type": "markdown",
   "metadata": {},
   "source": [
    "Значення часового ряду, що розглядається, знаходяться на рівних часових інтервалах одне від одного.\n",
    "Створюємо класс _NeighbourImputer_, який дозволить вставляти значення методом найближчого сусіда. З оглядом на рівні інтервали, метод вставляє правого сусіда, лівого сусіда або середня арифметичне двох сусідів. Метод вказується при ініціалізації інтервала класу."
   ]
  },
  {
   "cell_type": "code",
   "execution_count": 7,
   "metadata": {},
   "outputs": [],
   "source": [
    "class NeighbourImputer:\n",
    "    \n",
    "    def __init__(self):\n",
    "        self.X = None\n",
    "        self.y = None\n",
    "        self.res = None\n",
    "    \n",
    "    def fit_transform(self, X, y):\n",
    "        \"\"\"\n",
    "        Підставляє значення замість NaN, користуючись принципом найближчого сусіда\n",
    "        \"\"\"\n",
    "        self.X = np.array(X)\n",
    "        self.y = np.array(y)\n",
    "        self.res = np.array(y)\n",
    "        for n in range(len(self.y)):\n",
    "            if np.isnan(y[n]):\n",
    "                shift_minus, y_minus = self.neighbour(n, up=False)\n",
    "                shift_plus, y_plus = self.neighbour(n, up=True)\n",
    "                if (not np.isnan(y_minus)) & (not np.isnan(y_plus)):\n",
    "                    if np.abs(self.X[shift_minus] - self.X[n]) < np.abs(self.X[shift_plus] - self.X[n]):\n",
    "                        self.res[n] = y_minus\n",
    "                    elif  np.abs(self.X[shift_minus] - self.X[n]) > np.abs(self.X[shift_plus] - self.X[n]):\n",
    "                        self.res[n] = y_plus\n",
    "                    else:\n",
    "                        self.res[n] = random.choice([y_minus, y_plus])\n",
    "                elif (not np.isnan(y_minus)):\n",
    "                    self.res[n] = y_minus\n",
    "                elif (not np.isnan(y_plus)):\n",
    "                    self.res[n] = y_plus\n",
    "                else:\n",
    "                    raise ValueError('Некоретний список значень')\n",
    "        return self.res\n",
    "    \n",
    "    def neighbour(self, k, up=True):\n",
    "        \"\"\"\n",
    "        Шукає сусіда із заданої сторони\n",
    "        Повертає зсув (кількість значень) та значення сусіда\n",
    "        Такая реалізація дозволяє коректно обробляти ситуації, де декілька NaN є сусідами\n",
    "        \"\"\"\n",
    "        n = k\n",
    "        if up:\n",
    "            while np.isnan(self.y[n]):\n",
    "                if n + 1 < len(self.y):\n",
    "                    n += 1\n",
    "                else:\n",
    "                    return len(self.y) - 1, np.nan\n",
    "            return np.abs(n - k), self.y[n]\n",
    "        else:\n",
    "            while np.isnan(self.y[n]):\n",
    "                if n - 1 > - 1:\n",
    "                    n -= 1\n",
    "                else:\n",
    "                    return 0, np.nan\n",
    "            return np.abs(n - k), self.y[n]                   "
   ]
  },
  {
   "cell_type": "markdown",
   "metadata": {},
   "source": [
    "Проводимо відновлення значень"
   ]
  },
  {
   "cell_type": "code",
   "execution_count": 8,
   "metadata": {},
   "outputs": [],
   "source": [
    "ni = NeighbourImputer()\n",
    "y_pred = ni.fit_transform(df_nan.Time, df_nan.Value)\n",
    "df['NI_imputed'] = y_pred"
   ]
  },
  {
   "cell_type": "code",
   "execution_count": 9,
   "metadata": {},
   "outputs": [
    {
     "name": "stdout",
     "output_type": "stream",
     "text": [
      "Коефіцієнт детермінації = 0.9185550276799229\n"
     ]
    }
   ],
   "source": [
    "print('Коефіцієнт детермінації = {}'.format(r2_score(y_true, y_pred)))"
   ]
  },
  {
   "cell_type": "markdown",
   "metadata": {},
   "source": [
    "Визначимо залежність коефіцієнту детермінації від частки видалених та відновленних значень"
   ]
  },
  {
   "cell_type": "markdown",
   "metadata": {},
   "source": [
    "Спочатку використаємо звичну ініціалізацію генератора випадкових чисел системним часом"
   ]
  },
  {
   "cell_type": "code",
   "execution_count": 17,
   "metadata": {},
   "outputs": [],
   "source": [
    "sharea, r2_a = [], []\n",
    "seeds = [143, 543, 11, 121, 304, 221, 903, 89, 544, 241]\n",
    "for s in range(1, 9):\n",
    "    share = 0.1 * s\n",
    "    sharea.append(share)\n",
    "    r2_mean = []\n",
    "    for i in range(10):\n",
    "        random.seed()\n",
    "        df_nan = make_nan(df, share=share)\n",
    "        y_pred = ni.fit_transform(df_nan.Time, df_nan.Value)\n",
    "        r2_mean.append(r2_score(y_true, y_pred))\n",
    "    r2_a.append(np.mean(r2_mean))"
   ]
  },
  {
   "cell_type": "code",
   "execution_count": 18,
   "metadata": {},
   "outputs": [
    {
     "data": {
      "image/png": "[encoded data removed]",
      "text/plain": [
       "<Figure size 432x288 with 1 Axes>"
      ]
     },
     "metadata": {},
     "output_type": "display_data"
    }
   ],
   "source": [
    "plt.plot(sharea, r2_a)\n",
    "plt.title('Залежність R^2 від частки видалених значень')\n",
    "plt.xlabel('Частка видалених значень')\n",
    "plt.ylabel('R^2')\n",
    "plt.show()"
   ]
  },
  {
   "cell_type": "markdown",
   "metadata": {},
   "source": [
    "Тепер використаємо ініціалізацію генератора випадкових чисел одним й тим набором чисел для кожної долі видалення"
   ]
  },
  {
   "cell_type": "code",
   "execution_count": 19,
   "metadata": {},
   "outputs": [],
   "source": [
    "sharea, r2_a = [], []\n",
    "seeds = [143, 543, 11, 121, 304, 221, 903, 89, 544, 241]\n",
    "for s in range(1, 9):\n",
    "    share = 0.1 * s\n",
    "    sharea.append(share)\n",
    "    r2_mean = []\n",
    "    for i in range(10):\n",
    "        random.seed(seeds[i])\n",
    "        df_nan = make_nan(df, share=share)\n",
    "        y_pred = ni.fit_transform(df_nan.Time, df_nan.Value)\n",
    "        r2_mean.append(r2_score(y_true, y_pred))\n",
    "    r2_a.append(np.mean(r2_mean))"
   ]
  },
  {
   "cell_type": "code",
   "execution_count": 20,
   "metadata": {},
   "outputs": [
    {
     "data": {
      "image/png": "[encoded data removed]",
      "text/plain": [
       "<Figure size 432x288 with 1 Axes>"
      ]
     },
     "metadata": {},
     "output_type": "display_data"
    }
   ],
   "source": [
    "plt.plot(sharea, r2_a)\n",
    "plt.title('Залежність R^2 від частки видалених значень')\n",
    "plt.xlabel('Частка видалених значень')\n",
    "plt.ylabel('R^2')\n",
    "plt.show()"
   ]
  }
 ],
 "metadata": {
  "kernelspec": {
   "display_name": "Python 3",
   "language": "python",
   "name": "python3"
  },
  "language_info": {
   "codemirror_mode": {
    "name": "ipython",
    "version": 3
   },
   "file_extension": ".py",
   "mimetype": "text/x-python",
   "name": "python",
   "nbconvert_exporter": "python",
   "pygments_lexer": "ipython3",
   "version": "3.8.5"
  }
 },
 "nbformat": 4,
 "nbformat_minor": 4
}
